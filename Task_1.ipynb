{
 "cells": [
  {
   "cell_type": "markdown",
   "id": "095fd3ce",
   "metadata": {},
   "source": [
    "# Task 1\n",
    "Design a quantum circuit that considers as input the following vector of integers numbers:\n",
    "[1,5,7,10]\n",
    "<br>\n",
    "returns a quantum state which is a superposition of indices of the target solution, obtaining in\n",
    "the output the indices of the inputs where two adjacent bits will always have different values. In\n",
    "this case the output should be: $\\frac{1}{\\sqrt{2}}\\cdot(|01\\rangle + |11\\rangle)$, as the correct indices are 1 and 3.\n",
    "\n",
    "1 = 0001<br>\n",
    "**5 = 0101**<br>\n",
    "7 = 0111<br>\n",
    "**10 = 1010**<br>\n",
    "\n",
    "<h4>Context</h4>\n",
    "\n",
    "If you’re struggling to find a proper way to solve this task, you can find some suggestions for a\n",
    "possible solution below. This is one way to approach the problem, but other solutions may be\n",
    "feasible as well, so feel free to also investigate different strategies if you see fit!\n",
    "\n",
    "The key to this task is to use the superposition offered by quantum computing to load all the\n",
    "values of the input array on a single quantum state, and then locate the values that meet the\n",
    "target condition. So, how can we use a quantum computer to store multiple values? A possible\n",
    "solution is using the QRAM (some references: https://arxiv.org/pdf/0708.1879.pdf,\n",
    "https://github.com/qsharp-community/qram/blob/master/docs/primer.pdf).\n",
    "\n",
    "As with classical computers, in the QRAM information is accessed using a set of bits indicating\n",
    "the address of the memory cell, and another set for the actual data stored in the array.\n",
    "For example, if you want to use a QRAM to store 2 numbers that have most have 3 bits, it can\n",
    "be achieved with 1 qubit of address and 3 qubits of data.\n",
    "\n",
    "Suppose you have the vector input_2 = [2,7].\n",
    "In a properly constructed circuit, when the value of the address qubit is |0> the data qubits have\n",
    "value 010 (binary representation of 2) and when it is |1> in the data qubits have value 111\n",
    "(binary representation of 7).\n",
    "\n",
    "Given such a structure, you should be able to use Grover’s algorithm in order to obtain the\n",
    "solution to the task.\n",
    "\n",
    "You can assume that the input always contains at least two numbers that have alternating\n",
    "bitstrings.\n",
    "\n",
    "Bonus:\n",
    "\n",
    "Design a general circuit that accepts vectors with random values of size 2^n with m bits in\n",
    "length for each element and finds the state(s) indicated above from an oracle."
   ]
  },
  {
   "cell_type": "code",
   "execution_count": 2,
   "id": "cf6cb5c8",
   "metadata": {},
   "outputs": [],
   "source": [
    "# import block\n",
    "\n",
    "import numpy as np\n",
    "from qiskit import *\n",
    "from qiskit.quantum_info import Statevector\n",
    "from qiskit.visualization import *"
   ]
  },
  {
   "cell_type": "code",
   "execution_count": 3,
   "id": "3ed510e4",
   "metadata": {},
   "outputs": [],
   "source": [
    "# Circuit executer functions\n",
    "def run_circuit_on_sim(qc):\n",
    "    sim = Aer.get_backend('qasm_simulator')\n",
    "    result = execute(qc, backend=sim, shots=2048).result()\n",
    "    return result.get_counts(qc)\n"
   ]
  },
  {
   "cell_type": "markdown",
   "id": "8402cbba",
   "metadata": {},
   "source": [
    "## Initiating qRam "
   ]
  },
  {
   "cell_type": "code",
   "execution_count": 4,
   "id": "7e1b80c5",
   "metadata": {},
   "outputs": [],
   "source": [
    "def find_all(s:str, ch:str)-> list: \n",
    "    assert ch!='' and s !=''\n",
    "    \n",
    "    return [len(s)-i-1 for i in range(len(s)) if ch ==s[i]] \n",
    "\n",
    "def qram_encoder(vec: list, index_bit_count, data_bit_count):\n",
    "    \n",
    "#     vec_dict = {bin(vec[i])[2:].zfill(data_bit_count): bin(i)[2:].zfill(index_bit_count) for i in range(len(vec))}\n",
    "    #debugginng\n",
    "#     print(vec_dict)\n",
    "    \n",
    "    index_reg = QuantumRegister(index_bit_count)\n",
    "    data_reg = QuantumRegister(data_bit_count)\n",
    "    qc = QuantumCircuit(data_reg, index_reg)\n",
    "    \n",
    "    for i in range(len(vec)):\n",
    "        v = bin(i)[2:].zfill(index_bit_count)\n",
    "        k = bin(vec[i])[2:].zfill(data_bit_count)\n",
    "        ones_indices_in_index_reg = find_all(v, '1')\n",
    "        zeros_indices_in_data_reg = find_all(k, '0')\n",
    "        \n",
    "        if len(ones_indices_in_index_reg) > 0:\n",
    "            #debugging\n",
    "#             qc.barrier()\n",
    "            for index in ones_indices_in_index_reg:\n",
    "                if len(zeros_indices_in_data_reg) >0:\n",
    "                    qc.x(zeros_indices_in_data_reg)\n",
    "                qc.mct(data_reg,index_reg[index] )\n",
    "            \n",
    "                if len(zeros_indices_in_data_reg) >0:\n",
    "                    qc.x(zeros_indices_in_data_reg)\n",
    "            \n",
    " \n",
    "    return qc\n",
    "    \n",
    "\n",
    "# vec = [1,5,7,10]\n",
    "# # vec = [1,10,6,5,7,5,11,3]\n",
    "# l = len(vec)\n",
    "# index_bit_count =  int(np.floor(np.log2(l))) # works for any vector of size 2^n\n",
    "# data_bit_count =  int(np.floor(np.log2(max(vec))) +1) # finding m\n",
    "    \n",
    "# qram_encoder(vec, index_bit_count, data_bit_count).draw('mpl')\n"
   ]
  },
  {
   "cell_type": "markdown",
   "id": "12ddd233",
   "metadata": {},
   "source": [
    "## Creating Superpostion of two alternating bit pattern"
   ]
  },
  {
   "cell_type": "code",
   "execution_count": 5,
   "id": "d40ed171",
   "metadata": {},
   "outputs": [],
   "source": [
    "def create_alternate_bit_pattern(n:int):\n",
    "    qc = QuantumCircuit(n)\n",
    "    qc.h(0)\n",
    "    \n",
    "    for i in range(2, n, 2):\n",
    "        qc.cx(0, i)\n",
    "    \n",
    "    qc.x(0)\n",
    "    for i in range(1, n, 2):\n",
    "        qc.cx(0, i)\n",
    "    qc.x(0)\n",
    "    return qc\n",
    "\n",
    "# qc_alt_bit = create_alternate_bit_pattern(4)\n",
    "# qc_alt_bit.measure_all()\n",
    "# qc_alt_bit.draw('mpl')\n",
    "\n",
    "    "
   ]
  },
  {
   "cell_type": "code",
   "execution_count": 21,
   "id": "0197baef",
   "metadata": {
    "scrolled": true
   },
   "outputs": [
    {
     "data": {
      "image/png": "[encoded data removed]",
      "text/plain": [
       "<Figure size 504x360 with 1 Axes>"
      ]
     },
     "execution_count": 21,
     "metadata": {},
     "output_type": "execute_result"
    }
   ],
   "source": [
    "# counts = run_circuit_on_sim(qc_alt_bit)\n",
    "\n",
    "# plot_histogram(counts)"
   ]
  },
  {
   "cell_type": "markdown",
   "id": "a6f17230",
   "metadata": {},
   "source": [
    "## Combining all of the above.... "
   ]
  },
  {
   "cell_type": "code",
   "execution_count": 6,
   "id": "b740ad83",
   "metadata": {},
   "outputs": [],
   "source": [
    "def task1(vec:list):\n",
    "    l = len(vec)\n",
    "    index_bit_count =  int(np.floor(np.log2(l))) # works for any vector of size 2^n\n",
    "    data_bit_count =  int(np.floor(np.log2(max(vec))) +1) # finding m\n",
    "    \n",
    "    index_reg = QuantumRegister(index_bit_count, \"index_reg\")\n",
    "    data_reg = QuantumRegister(data_bit_count,\"data_reg\")\n",
    "    readout_reg = ClassicalRegister(index_bit_count, 'readout')\n",
    "    \n",
    "    qc = QuantumCircuit(data_reg, index_reg, readout_reg)\n",
    "    \n",
    "    alternator = create_alternate_bit_pattern(data_bit_count).to_gate(label = \"Alternator\")\n",
    "    qram = qram_encoder(vec, index_bit_count, data_bit_count).to_gate(label = \"qRam\")\n",
    "    \n",
    "    qc.append(alternator, data_reg)\n",
    "    qc.barrier()\n",
    "    qc.append(qram, range(index_bit_count+ data_bit_count))\n",
    "    \n",
    "    qc.measure(index_reg, readout_reg)\n",
    "    \n",
    "    return qc\n",
    "    \n",
    "    \n",
    "# vec = [1,5,7,10]\n",
    "vec = [1,5,4,2]\n",
    "\n",
    "# vec = [1,10,7,6,5,11,9,3]\n",
    "circ = task1(vec)\n",
    "# circ.decompose().draw('mpl')"
   ]
  },
  {
   "cell_type": "code",
   "execution_count": 7,
   "id": "ef150f52",
   "metadata": {},
   "outputs": [
    {
     "data": {
      "image/png": "[encoded data removed]",
      "text/plain": [
       "<Figure size 504x360 with 1 Axes>"
      ]
     },
     "execution_count": 7,
     "metadata": {},
     "output_type": "execute_result"
    }
   ],
   "source": [
    "c = run_circuit_on_sim(circ)\n",
    "plot_histogram(c)"
   ]
  },
  {
   "cell_type": "code",
   "execution_count": null,
   "id": "83aa41bf",
   "metadata": {},
   "outputs": [],
   "source": []
  }
 ],
 "metadata": {
  "kernelspec": {
   "display_name": "Python 3",
   "language": "python",
   "name": "python3"
  },
  "language_info": {
   "codemirror_mode": {
    "name": "ipython",
    "version": 3
   },
   "file_extension": ".py",
   "mimetype": "text/x-python",
   "name": "python",
   "nbconvert_exporter": "python",
   "pygments_lexer": "ipython3",
   "version": "3.9.5"
  }
 },
 "nbformat": 4,
 "nbformat_minor": 5
}
